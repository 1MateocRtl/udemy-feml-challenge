{
 "cells": [
  {
   "cell_type": "markdown",
   "metadata": {},
   "source": [
    "## Assignment:\n",
    "\n",
    "Beat the performance of my Lasso regression by **using different feature engineering steps ONLY!!**.\n",
    "\n",
    "The performance of my current model, as shown in this notebook is:\n",
    "- test rmse: 44798.497576784845\n",
    "- test r2: 0.7079639526659389\n",
    "\n",
    "To beat my model you will need a test r2 bigger than 0.71 and a rmse smaller than 44798.\n",
    "\n",
    "\n",
    "=====================================================================================================\n",
    "\n",
    "\n",
    "### Conditions:\n",
    "\n",
    "- You MUST NOT change the hyperparameters of the Lasso.\n",
    "- You MUST use the same seeds in Lasso and train_test_split as I show in this notebook (random_state)\n",
    "- You MUST use all the features of the dataset (except Id) - you MUST NOT select features\n",
    "\n",
    "\n",
    "=====================================================================================================\n",
    "\n",
    "\n",
    "### If you beat my model:\n",
    "\n",
    "Make a pull request with your notebook to this github repo:\n",
    "https://github.com/solegalli/udemy-feml-challenge\n",
    "\n",
    "\n",
    "### How to make the PR\n",
    "\n",
    "1) fork the repo:\n",
    "\n",
    "Go to https://github.com/solegalli/udemy-feml-challenge, and click on the **fork** button at the top-right\n",
    "\n",
    "2) clone your forked repo into your local computer:\n",
    "\n",
    "- Go to www.github.com/yourusername/udemy-feml-challenge\n",
    "- Click the green button that says clone or download\n",
    "- copy the url that opens up\n",
    "- power up a git console\n",
    "- type: git clone (paste the url you copied from github)\n",
    "- done\n",
    "\n",
    "3) Make a copy of the jupyter notebook and add your name:\n",
    "\n",
    "- Open up the Jupyter notebook called 13-Assignement.ipynb\n",
    "- Click the \"File\" button at the top-right and then click \"Make a copy\"\n",
    "- **Work your solution in the Copy** and not in the original assignment (otherwise there will be conflicts when making the PR)\n",
    "- Change the name of the copy of the notebook to: 13-Assignement_yourname.ipynb\n",
    "- done\n",
    "\n",
    "When you finish, just commit the new notebook to your fork and then make a PR to my repo\n",
    "\n",
    "\n",
    "## But i have a notebook ready and I haven't cloned the repo yet, how can I make the PR?\n",
    "\n",
    "If you worked in the copy you downloaded from Udemy before forking and cloning this repo, then follow this steps:\n",
    "\n",
    "1) fork the repo:\n",
    "\n",
    "Go to https://github.com/solegalli/udemy-feml-challenge, and click on the fork button at the top-right\n",
    "\n",
    "2) clone your forked repo into your local computer:\n",
    "\n",
    "Go to www.github.com/yourusername/udemy-feml-challenge\n",
    "\n",
    "- Click the green button that says clone or download\n",
    "- Copy the url that opens up\n",
    "- Power up a git console\n",
    "- Type: git clone (paste the url you copied from github)\n",
    "- Done\n",
    "\n",
    "3) Rename your solution as follows and copy it into your cloned repo:\n",
    "\n",
    "- Rename your solution notebook to: 13-Assignement_yourname.ipynb\n",
    "- Copy this file into the cloned repo\n",
    "- Done\n",
    "\n",
    "When you finish, just commit the new notebook to your fork and then make a PR to my repo\n",
    "\n",
    "\n",
    "**Good luck!!**"
   ]
  },
  {
   "cell_type": "markdown",
   "metadata": {},
   "source": [
    "## House Prices dataset"
   ]
  },
  {
   "cell_type": "code",
   "execution_count": 1,
   "metadata": {},
   "outputs": [],
   "source": [
    "from math import sqrt\n",
    "import pandas as pd\n",
    "import numpy as np\n",
    "import matplotlib.pyplot as plt\n",
    "\n",
    "# for the model\n",
    "from sklearn.model_selection import train_test_split\n",
    "from sklearn.linear_model import Lasso\n",
    "from sklearn.pipeline import Pipeline\n",
    "from sklearn.metrics import mean_squared_error, r2_score\n",
    "\n",
    "# for feature engineering\n",
    "from sklearn.preprocessing import StandardScaler\n",
    "from feature_engine import missing_data_imputers as mdi\n",
    "from feature_engine import discretisers as dsc\n",
    "from feature_engine import categorical_encoders as ce\n",
    "from feature_engine import variable_transformers as vt"
   ]
  },
  {
   "cell_type": "markdown",
   "metadata": {},
   "source": [
    "### Load Datasets"
   ]
  },
  {
   "cell_type": "code",
   "execution_count": 2,
   "metadata": {},
   "outputs": [],
   "source": [
    "# load dataset\n",
    "\n",
    "data = pd.read_csv('../Notebooks/houseprice.csv')"
   ]
  },
  {
   "cell_type": "code",
   "execution_count": 3,
   "metadata": {},
   "outputs": [
    {
     "name": "stdout",
     "output_type": "stream",
     "text": [
      "There are 18 continuous variables\n",
      "There are 14 discrete variables\n",
      "There are 4 temporal variables\n",
      "There are 43 categorical variables\n"
     ]
    }
   ],
   "source": [
    "# make lists of variable types\n",
    "\n",
    "categorical = [var for var in data.columns if data[var].dtype == 'O']\n",
    "\n",
    "year_vars = [var for var in data.columns if 'Yr' in var or 'Year' in var]\n",
    "\n",
    "discrete = [\n",
    "    var for var in data.columns if data[var].dtype != 'O'\n",
    "    and len(data[var].unique()) < 20 and var not in year_vars\n",
    "]\n",
    "\n",
    "numerical = [\n",
    "    var for var in data.columns if data[var].dtype != 'O'\n",
    "    if var not in discrete and var not in ['Id', 'SalePrice']\n",
    "    and var not in year_vars\n",
    "]\n",
    "\n",
    "print('There are {} continuous variables'.format(len(numerical)))\n",
    "print('There are {} discrete variables'.format(len(discrete)))\n",
    "print('There are {} temporal variables'.format(len(year_vars)))\n",
    "print('There are {} categorical variables'.format(len(categorical)))"
   ]
  },
  {
   "cell_type": "markdown",
   "metadata": {},
   "source": [
    "### Separate train and test set"
   ]
  },
  {
   "cell_type": "code",
   "execution_count": 66,
   "metadata": {},
   "outputs": [],
   "source": [
    "# IMPORTANT: keep the random_state to zero for reproducibility\n",
    "# Let's separate into train and test set\n",
    "\n",
    "X_train, X_test, y_train, y_test = train_test_split(data.drop(\n",
    "    ['Id', 'SalePrice'], axis=1),\n",
    "    data['SalePrice'],\n",
    "    test_size=0.1,\n",
    "    random_state=0)"
   ]
  },
  {
   "cell_type": "code",
   "execution_count": 67,
   "metadata": {},
   "outputs": [],
   "source": [
    "# calculate elapsed times\n",
    "\n",
    "def elapsed_years(df, var1, var2):\n",
    "    # capture difference between year variable and\n",
    "    # year the house was sold\n",
    "    \n",
    "    df[var1 + '-' + var2] = abs(df[var1] - df[var2])\n",
    "    return df\n",
    "\n",
    "dates_vars = ['YrSold', 'YearBuilt', 'YearRemodAdd', 'GarageYrBlt']\n",
    "for i, _ in enumerate(dates_vars):\n",
    "    var1 = dates_vars[i]\n",
    "    for j in range(i, len(dates_vars)):\n",
    "        if i != j:\n",
    "            var2 = dates_vars[j]\n",
    "            X_train = elapsed_years(X_train, var1, var2)\n",
    "            X_test = elapsed_years(X_test, var1, var2)"
   ]
  },
  {
   "cell_type": "code",
   "execution_count": 68,
   "metadata": {},
   "outputs": [],
   "source": [
    "# drop original dates variables\n",
    "X_train.drop(dates_vars, axis=1, inplace=True)\n",
    "X_test.drop(dates_vars, axis=1, inplace=True)"
   ]
  },
  {
   "cell_type": "code",
   "execution_count": 69,
   "metadata": {},
   "outputs": [],
   "source": [
    "# capture the column names for use later in the notebook\n",
    "final_columns = X_train.columns"
   ]
  },
  {
   "cell_type": "code",
   "execution_count": 70,
   "metadata": {},
   "outputs": [
    {
     "data": {
      "text/plain": [
       "['YrSold-YearBuilt',\n",
       " 'YrSold-YearRemodAdd',\n",
       " 'YrSold-GarageYrBlt',\n",
       " 'YearBuilt-YearRemodAdd',\n",
       " 'YearBuilt-GarageYrBlt',\n",
       " 'YearRemodAdd-GarageYrBlt']"
      ]
     },
     "execution_count": 70,
     "metadata": {},
     "output_type": "execute_result"
    }
   ],
   "source": [
    "# capture elapsed times variables\n",
    "elapsed_times_vars = list(X_train.columns[-6:])\n",
    "elapsed_times_vars"
   ]
  },
  {
   "cell_type": "markdown",
   "metadata": {},
   "source": [
    "## Feature Engineering Pipeline"
   ]
  },
  {
   "cell_type": "code",
   "execution_count": 71,
   "metadata": {},
   "outputs": [],
   "source": [
    "# I will treat discrete variables as if they were categorical\n",
    "# to treat discrete as categorical using Feature-engine\n",
    "# we need to re-cast them as object\n",
    "\n",
    "X_train[discrete] = X_train[discrete].astype('O')\n",
    "X_test[discrete] = X_test[discrete].astype('O')"
   ]
  },
  {
   "cell_type": "code",
   "execution_count": 72,
   "metadata": {},
   "outputs": [
    {
     "data": {
      "text/plain": [
       "Alley           0.938356\n",
       "MasVnrType      0.004566\n",
       "BsmtQual        0.024353\n",
       "BsmtCond        0.024353\n",
       "BsmtExposure    0.025114\n",
       "BsmtFinType1    0.024353\n",
       "BsmtFinType2    0.025114\n",
       "Electrical      0.000761\n",
       "FireplaceQu     0.472603\n",
       "GarageType      0.056317\n",
       "GarageFinish    0.056317\n",
       "GarageQual      0.056317\n",
       "GarageCond      0.056317\n",
       "PoolQC          0.995434\n",
       "Fence           0.814307\n",
       "MiscFeature     0.961187\n",
       "dtype: float64"
      ]
     },
     "execution_count": 72,
     "metadata": {},
     "output_type": "execute_result"
    }
   ],
   "source": [
    "# find percentage of missing values for categorical variables\n",
    "categorical_vars_perc_nans = X_train[categorical].isna().mean()\n",
    "categorical_vars_with_nans = categorical_vars_perc_nans[categorical_vars_perc_nans !=0]\n",
    "categorical_vars_with_nans"
   ]
  },
  {
   "cell_type": "code",
   "execution_count": 73,
   "metadata": {},
   "outputs": [],
   "source": [
    "# impute categorical variables with many missing values with the missing indicator otherwise with mode\n",
    "tol = 0.05\n",
    "categorical_impute_with_missing = (categorical_vars_with_nans[categorical_vars_with_nans > tol]).index\n",
    "categorical_impute_with_mode = set(categorical).difference(set(categorical_impute_with_missing))\n",
    "categorical_impute_with_missing = list(categorical_impute_with_missing)\n",
    "categorical_impute_with_mode = list(categorical_impute_with_mode)"
   ]
  },
  {
   "cell_type": "code",
   "execution_count": 74,
   "metadata": {},
   "outputs": [
    {
     "data": {
      "text/plain": [
       "['Alley',\n",
       " 'FireplaceQu',\n",
       " 'GarageType',\n",
       " 'GarageFinish',\n",
       " 'GarageQual',\n",
       " 'GarageCond',\n",
       " 'PoolQC',\n",
       " 'Fence',\n",
       " 'MiscFeature']"
      ]
     },
     "execution_count": 74,
     "metadata": {},
     "output_type": "execute_result"
    }
   ],
   "source": [
    "categorical_impute_with_missing"
   ]
  },
  {
   "cell_type": "code",
   "execution_count": 75,
   "metadata": {},
   "outputs": [
    {
     "data": {
      "text/plain": [
       "['RoofMatl',\n",
       " 'BsmtCond',\n",
       " 'Electrical',\n",
       " 'LandSlope',\n",
       " 'KitchenQual',\n",
       " 'BsmtFinType2',\n",
       " 'RoofStyle',\n",
       " 'Neighborhood',\n",
       " 'BsmtFinType1',\n",
       " 'Street',\n",
       " 'Utilities',\n",
       " 'Condition2',\n",
       " 'MSZoning',\n",
       " 'LandContour',\n",
       " 'BldgType',\n",
       " 'Exterior2nd',\n",
       " 'HeatingQC',\n",
       " 'Heating',\n",
       " 'Functional',\n",
       " 'HouseStyle',\n",
       " 'Exterior1st',\n",
       " 'ExterQual',\n",
       " 'PavedDrive',\n",
       " 'BsmtExposure',\n",
       " 'Condition1',\n",
       " 'MasVnrType',\n",
       " 'LotShape',\n",
       " 'BsmtQual',\n",
       " 'SaleCondition',\n",
       " 'ExterCond',\n",
       " 'CentralAir',\n",
       " 'LotConfig',\n",
       " 'SaleType',\n",
       " 'Foundation']"
      ]
     },
     "execution_count": 75,
     "metadata": {},
     "output_type": "execute_result"
    }
   ],
   "source": [
    "categorical_impute_with_mode"
   ]
  },
  {
   "cell_type": "code",
   "execution_count": 76,
   "metadata": {},
   "outputs": [
    {
     "data": {
      "text/plain": [
       "['YrSold-GarageYrBlt', 'YearBuilt-GarageYrBlt', 'YearRemodAdd-GarageYrBlt']"
      ]
     },
     "execution_count": 76,
     "metadata": {},
     "output_type": "execute_result"
    }
   ],
   "source": [
    "elapsed_times_vars_perc_nans = X_train[elapsed_times_vars].isna().mean()\n",
    "elapsed_times_vars_with_nans = elapsed_times_vars_perc_nans[elapsed_times_vars_perc_nans !=0]\n",
    "elapsed_times_vars_with_nans = list(elapsed_times_vars_with_nans.index)\n",
    "elapsed_times_vars_with_nans "
   ]
  },
  {
   "cell_type": "code",
   "execution_count": 79,
   "metadata": {},
   "outputs": [],
   "source": [
    "house_pipe = Pipeline([\n",
    "\n",
    "    # missing data imputation - section 4    \n",
    "    \n",
    "    ('missing_ind',\n",
    "     mdi.AddNaNBinaryImputer(\n",
    "           variables=['LotFrontage', 'MasVnrArea'] + elapsed_times_vars_with_nans)),\n",
    "    \n",
    "    ('imputer_num',\n",
    "     mdi.MeanMedianImputer(\n",
    "         imputation_method='median',\n",
    "           variables=['LotFrontage', 'MasVnrArea'] + elapsed_times_vars_with_nans)),\n",
    "    \n",
    "    ('missing_cat', mdi.CategoricalVariableImputer(variables=categorical_impute_with_missing)),\n",
    "    \n",
    "    ('imputer_cat', mdi.FrequentCategoryImputer(variables=categorical_impute_with_mode)),\n",
    "\n",
    "    \n",
    "    # categorical encoding - section 6 -> this step seems the most important to optimize in order to obain good generalization\n",
    "    ('rare_label_enc',\n",
    "     ce.RareLabelCategoricalEncoder(tol=0.1,\n",
    "                                    n_categories=10,\n",
    "                                    variables=categorical + discrete)),\n",
    "\n",
    "    ('oh_categorical_enc',\n",
    "     ce.OneHotCategoricalEncoder(top_categories=10,\n",
    "                                 variables=categorical + discrete,\n",
    "                                 drop_last=True)),\n",
    "\n",
    "    # discretisation + encoding - section 8 -> this step seems to produce overfitting and lower a lot the test R2\n",
    "\n",
    "#     ('discretisation',\n",
    "#      dsc.EqualFrequencyDiscretiser(q=5,\n",
    "#                                    return_object=True,\n",
    "#                                    variables=numerical)),\n",
    "#     ('encoding',\n",
    "#      ce.OrdinalCategoricalEncoder(encoding_method='ordered',\n",
    "#                                   variables=numerical)),\n",
    "    \n",
    "    # feature Scaling - section 10\n",
    "    ('scaler', StandardScaler()),\n",
    "\n",
    "    # regression\n",
    "    ('lasso', Lasso(random_state=0))\n",
    "])"
   ]
  },
  {
   "cell_type": "code",
   "execution_count": 80,
   "metadata": {},
   "outputs": [
    {
     "name": "stderr",
     "output_type": "stream",
     "text": [
      "C:\\Users\\rocco\\anaconda3\\envs\\udemy-feature-engineering-course\\lib\\site-packages\\sklearn\\linear_model\\_coordinate_descent.py:476: ConvergenceWarning: Objective did not converge. You might want to increase the number of iterations. Duality gap: 204391777973.52362, tolerance: 820439508.582228\n",
      "  positive)\n"
     ]
    }
   ],
   "source": [
    "# let's fit the pipeline\n",
    "house_pipe.fit(X_train, y_train)\n",
    "\n",
    "# let's get the predictions\n",
    "X_train_preds = house_pipe.predict(X_train)\n",
    "X_test_preds = house_pipe.predict(X_test)"
   ]
  },
  {
   "cell_type": "code",
   "execution_count": 81,
   "metadata": {},
   "outputs": [
    {
     "name": "stdout",
     "output_type": "stream",
     "text": [
      "train mse: 407307948.6\n",
      "train rmse: 20181.87\n",
      "train r2: 0.93\n",
      "\n",
      "test mse: 993062426.68\n",
      "test rmse: 31512.89\n",
      "test r2: 0.86\n"
     ]
    }
   ],
   "source": [
    "# check model performance:\n",
    "\n",
    "print('train mse: {}'.format(round(mean_squared_error(y_train, X_train_preds),2)))\n",
    "print('train rmse: {}'.format(round(sqrt(mean_squared_error(y_train, X_train_preds)),2)))\n",
    "print('train r2: {}'.format(round(r2_score(y_train, X_train_preds),2)))\n",
    "print()\n",
    "print('test mse: {}'.format(round(mean_squared_error(y_test, X_test_preds),2)))\n",
    "print('test rmse: {}'.format(round(sqrt(mean_squared_error(y_test, X_test_preds)),2)))\n",
    "print('test r2: {}'.format(round(r2_score(y_test, X_test_preds),2)))"
   ]
  },
  {
   "cell_type": "code",
   "execution_count": 30,
   "metadata": {},
   "outputs": [
    {
     "data": {
      "text/plain": [
       "Text(0, 0.5, 'Predicted Price')"
      ]
     },
     "execution_count": 30,
     "metadata": {},
     "output_type": "execute_result"
    },
    {
     "data": {
      "image/png": "[encoded data removed]",
      "text/plain": [
       "<Figure size 432x288 with 1 Axes>"
      ]
     },
     "metadata": {
      "needs_background": "light"
     },
     "output_type": "display_data"
    }
   ],
   "source": [
    "# plot predictions vs real value\n",
    "\n",
    "plt.scatter(y_test,X_test_preds)\n",
    "plt.xlabel('True Price')\n",
    "plt.ylabel('Predicted Price')"
   ]
  },
  {
   "cell_type": "code",
   "execution_count": null,
   "metadata": {},
   "outputs": [],
   "source": []
  }
 ],
 "metadata": {
  "kernelspec": {
   "display_name": "Python py36",
   "language": "python",
   "name": "udemy-feature-engineering-course"
  },
  "language_info": {
   "codemirror_mode": {
    "name": "ipython",
    "version": 3
   },
   "file_extension": ".py",
   "mimetype": "text/x-python",
   "name": "python",
   "nbconvert_exporter": "python",
   "pygments_lexer": "ipython3",
   "version": "3.6.10"
  },
  "toc": {
   "nav_menu": {},
   "number_sections": true,
   "sideBar": true,
   "skip_h1_title": false,
   "toc_cell": false,
   "toc_position": {
    "height": "583px",
    "left": "0px",
    "right": "1324px",
    "top": "107px",
    "width": "212px"
   },
   "toc_section_display": "block",
   "toc_window_display": true
  }
 },
 "nbformat": 4,
 "nbformat_minor": 2
}
